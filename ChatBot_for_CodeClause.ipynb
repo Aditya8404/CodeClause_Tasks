{
 "cells": [
  {
   "cell_type": "markdown",
   "id": "9b88e98f",
   "metadata": {},
   "source": [
    "# ChatBot for CodeClause By - Aditya Punia"
   ]
  },
  {
   "cell_type": "code",
   "execution_count": 1,
   "id": "c5f0cbf5",
   "metadata": {},
   "outputs": [],
   "source": [
    "import nltk\n",
    "from nltk.stem import WordNetLemmatizer\n",
    "lemmatizer = WordNetLemmatizer()\n",
    "import json\n",
    "import pickle\n",
    "\n",
    "import numpy as np\n",
    "from keras.models import Sequential\n",
    "from keras.layers import Dense, Activation, Dropout\n",
    "from tensorflow.keras.optimizers import SGD\n",
    "import random"
   ]
  },
  {
   "cell_type": "code",
   "execution_count": 2,
   "id": "09e10555",
   "metadata": {},
   "outputs": [
    {
     "name": "stderr",
     "output_type": "stream",
     "text": [
      "[nltk_data] Downloading package punkt to\n",
      "[nltk_data]     C:\\Users\\adity\\AppData\\Roaming\\nltk_data...\n",
      "[nltk_data]   Package punkt is already up-to-date!\n"
     ]
    },
    {
     "data": {
      "text/plain": [
       "True"
      ]
     },
     "execution_count": 2,
     "metadata": {},
     "output_type": "execute_result"
    }
   ],
   "source": [
    "nltk.download('punkt')"
   ]
  },
  {
   "cell_type": "code",
   "execution_count": 3,
   "id": "6d57434c",
   "metadata": {},
   "outputs": [],
   "source": [
    "words=[]\n",
    "classes = []\n",
    "documents = []\n",
    "ignore_words = ['?', '!']"
   ]
  },
  {
   "cell_type": "markdown",
   "id": "a0cb13ab",
   "metadata": {},
   "source": [
    "### Loading Data"
   ]
  },
  {
   "cell_type": "code",
   "execution_count": 4,
   "id": "4911e171",
   "metadata": {},
   "outputs": [],
   "source": [
    "data_file = 'intents.json'\n",
    "with open(data_file, \"r\", encoding=\"utf-8\") as json_file:\n",
    "    intents = json.load(json_file)"
   ]
  },
  {
   "cell_type": "code",
   "execution_count": 5,
   "id": "86c65a9e",
   "metadata": {},
   "outputs": [],
   "source": [
    "for intent in intents['intents']:\n",
    "    for pattern in intent['patterns']:\n",
    "\n",
    "        #tokenize each word\n",
    "        w = nltk.word_tokenize(pattern)\n",
    "        words.extend(w)\n",
    "        #add documents in the corpus\n",
    "        documents.append((w, intent['tag']))\n",
    "\n",
    "        # add to our classes list\n",
    "        if intent['tag'] not in classes:\n",
    "            classes.append(intent['tag'])"
   ]
  },
  {
   "cell_type": "code",
   "execution_count": 6,
   "id": "f4318cf1",
   "metadata": {},
   "outputs": [
    {
     "name": "stderr",
     "output_type": "stream",
     "text": [
      "[nltk_data] Downloading package wordnet to\n",
      "[nltk_data]     C:\\Users\\adity\\AppData\\Roaming\\nltk_data...\n",
      "[nltk_data]   Package wordnet is already up-to-date!\n"
     ]
    },
    {
     "data": {
      "text/plain": [
       "True"
      ]
     },
     "execution_count": 6,
     "metadata": {},
     "output_type": "execute_result"
    }
   ],
   "source": [
    "nltk.download('wordnet')"
   ]
  },
  {
   "cell_type": "code",
   "execution_count": 7,
   "id": "03330ccc",
   "metadata": {},
   "outputs": [
    {
     "name": "stderr",
     "output_type": "stream",
     "text": [
      "[nltk_data] Downloading package omw-1.4 to\n",
      "[nltk_data]     C:\\Users\\adity\\AppData\\Roaming\\nltk_data...\n",
      "[nltk_data]   Package omw-1.4 is already up-to-date!\n"
     ]
    },
    {
     "data": {
      "text/plain": [
       "True"
      ]
     },
     "execution_count": 7,
     "metadata": {},
     "output_type": "execute_result"
    }
   ],
   "source": [
    "nltk.download('omw-1.4')"
   ]
  },
  {
   "cell_type": "code",
   "execution_count": 8,
   "id": "6e461937",
   "metadata": {},
   "outputs": [],
   "source": [
    "words = [lemmatizer.lemmatize(w.lower()) for w in words if w not in ignore_words]\n",
    "words = sorted(list(set(words)))"
   ]
  },
  {
   "cell_type": "code",
   "execution_count": 9,
   "id": "50351427",
   "metadata": {},
   "outputs": [],
   "source": [
    "classes = sorted(list(set(classes)))"
   ]
  },
  {
   "cell_type": "code",
   "execution_count": 10,
   "id": "5118b1d7",
   "metadata": {},
   "outputs": [
    {
     "name": "stdout",
     "output_type": "stream",
     "text": [
      "50 documents\n"
     ]
    }
   ],
   "source": [
    "print (len(documents), \"documents\")"
   ]
  },
  {
   "cell_type": "code",
   "execution_count": 11,
   "id": "44fcfc04",
   "metadata": {},
   "outputs": [
    {
     "name": "stdout",
     "output_type": "stream",
     "text": [
      "10 classes ['About CodeClause', 'Contact', 'goodbye', 'greeting', 'internships', 'internships duration', 'internships fields', 'offer_letter', 'options', 'thanks']\n"
     ]
    }
   ],
   "source": [
    "print (len(classes), \"classes\", classes)"
   ]
  },
  {
   "cell_type": "code",
   "execution_count": 12,
   "id": "6228d1cb",
   "metadata": {},
   "outputs": [
    {
     "name": "stdout",
     "output_type": "stream",
     "text": [
      "75 unique lemmatized words [\"'s\", ',', 'about', 'an', 'anyone', 'applied', 'apply', 'are', 'awesome', 'be', 'bye', 'can', 'chatting', 'codeclause', 'concern', 'contact', 'could', 'day', 'do', 'duration', 'field', 'for', 'get', 'good', 'goodbye', 'have', 'hello', 'help', 'helpful', 'helping', 'hey', 'hi', 'hola', 'how', 'i', 'in', 'inernship', 'information', 'internship', 'is', 'later', 'letter', 'long', 'many', 'me', 'more', 'my', 'next', 'nice', 'not', 'of', 'offer', 'offered', 'provide', 'receieve', 'recieved', 'see', 'service', 'support', 'thank', 'thanks', 'that', 'the', 'there', 'till', 'time', 'to', 'touch', 'what', 'when', 'where', 'which', 'will', 'with', 'you']\n"
     ]
    }
   ],
   "source": [
    "print (len(words), \"unique lemmatized words\", words)"
   ]
  },
  {
   "cell_type": "code",
   "execution_count": 13,
   "id": "240eefaa",
   "metadata": {},
   "outputs": [],
   "source": [
    "pickle.dump(words,open('words.pkl','wb'))\n",
    "pickle.dump(classes,open('classes.pkl','wb'))"
   ]
  },
  {
   "cell_type": "markdown",
   "id": "3170da37",
   "metadata": {},
   "source": [
    "### Training the ChatBot"
   ]
  },
  {
   "cell_type": "code",
   "execution_count": 14,
   "id": "337947c7",
   "metadata": {},
   "outputs": [],
   "source": [
    "# creating our training data\n",
    "training = []\n",
    "\n",
    "# create an empty array for our output\n",
    "output_empty = [0] * len(classes)"
   ]
  },
  {
   "cell_type": "code",
   "execution_count": 15,
   "id": "687ad8f7",
   "metadata": {},
   "outputs": [],
   "source": [
    "# training set, bag of words for each sentence\n",
    "for doc in documents:\n",
    "    # initialize our bag of words\n",
    "    bag = []\n",
    "    # list of tokenized words for the pattern\n",
    "    pattern_words = doc[0]\n",
    "    # lemmatize each word - create base word, in attempt to represent related words\n",
    "    pattern_words = [lemmatizer.lemmatize(word.lower()) for word in pattern_words]\n",
    "    # create our bag of words array with 1, if word match found in current pattern\n",
    "    for w in words:\n",
    "        bag.append(1) if w in pattern_words else bag.append(0)\n",
    "    \n",
    "    # output is a '0' for each tag and '1' for current tag (for each pattern)\n",
    "    output_row = list(output_empty)\n",
    "    output_row[classes.index(doc[1])] = 1\n",
    "    \n",
    "    training.append([bag, output_row])"
   ]
  },
  {
   "cell_type": "code",
   "execution_count": 16,
   "id": "5593cfb8",
   "metadata": {},
   "outputs": [
    {
     "name": "stderr",
     "output_type": "stream",
     "text": [
      "C:\\Users\\adity\\AppData\\Local\\Temp\\ipykernel_1436\\3232993347.py:3: VisibleDeprecationWarning: Creating an ndarray from ragged nested sequences (which is a list-or-tuple of lists-or-tuples-or ndarrays with different lengths or shapes) is deprecated. If you meant to do this, you must specify 'dtype=object' when creating the ndarray.\n",
      "  training = np.array(training)\n"
     ]
    }
   ],
   "source": [
    "# shuffle our features and turn into np.array\n",
    "random.shuffle(training)\n",
    "training = np.array(training)"
   ]
  },
  {
   "cell_type": "code",
   "execution_count": 17,
   "id": "f684e958",
   "metadata": {},
   "outputs": [
    {
     "name": "stdout",
     "output_type": "stream",
     "text": [
      "Training data created\n"
     ]
    }
   ],
   "source": [
    "# create train and test lists. X - patterns, Y - intents\n",
    "\n",
    "train_x = list(training[:,0])\n",
    "train_y = list(training[:,1])\n",
    "print(\"Training data created\")"
   ]
  },
  {
   "cell_type": "code",
   "execution_count": 18,
   "id": "9e6abc36",
   "metadata": {},
   "outputs": [],
   "source": [
    "# Create model - 3 layers. First layer 128 neurons, second layer 64 neurons and 3rd output layer contains number of neurons\n",
    "# equal to number of intents to predict output intent with softmax\n",
    "\n",
    "model = Sequential()\n",
    "model.add(Dense(128, input_shape=(len(train_x[0]),), activation='relu'))\n",
    "model.add(Dropout(0.5))\n",
    "model.add(Dense(64, activation='relu'))\n",
    "model.add(Dropout(0.5))\n",
    "model.add(Dense(len(train_y[0]), activation='softmax'))"
   ]
  },
  {
   "cell_type": "code",
   "execution_count": 19,
   "id": "23172133",
   "metadata": {},
   "outputs": [
    {
     "name": "stderr",
     "output_type": "stream",
     "text": [
      "C:\\Users\\adity\\AppData\\Local\\Programs\\Python\\Python310\\lib\\site-packages\\keras\\optimizers\\optimizer_v2\\gradient_descent.py:111: UserWarning: The `lr` argument is deprecated, use `learning_rate` instead.\n",
      "  super().__init__(name, **kwargs)\n"
     ]
    }
   ],
   "source": [
    "# Compile model. Stochastic gradient descent with Nesterov accelerated gradient gives good results for this model\n",
    "\n",
    "sgd = SGD(lr=0.01, decay=1e-6, momentum=0.9, nesterov=True)\n",
    "model.compile(loss='categorical_crossentropy', optimizer=sgd, metrics=['accuracy'])"
   ]
  },
  {
   "cell_type": "code",
   "execution_count": 20,
   "id": "ac3b3ea3",
   "metadata": {},
   "outputs": [
    {
     "name": "stdout",
     "output_type": "stream",
     "text": [
      "Epoch 1/200\n",
      "10/10 [==============================] - 2s 8ms/step - loss: 2.3538 - accuracy: 0.1200\n",
      "Epoch 2/200\n",
      "10/10 [==============================] - 0s 9ms/step - loss: 2.2351 - accuracy: 0.2400\n",
      "Epoch 3/200\n",
      "10/10 [==============================] - 0s 6ms/step - loss: 2.1992 - accuracy: 0.1800\n",
      "Epoch 4/200\n",
      "10/10 [==============================] - 0s 7ms/step - loss: 2.0810 - accuracy: 0.3000\n",
      "Epoch 5/200\n",
      "10/10 [==============================] - 0s 7ms/step - loss: 1.9300 - accuracy: 0.3800\n",
      "Epoch 6/200\n",
      "10/10 [==============================] - 0s 6ms/step - loss: 1.8728 - accuracy: 0.3600\n",
      "Epoch 7/200\n",
      "10/10 [==============================] - 0s 6ms/step - loss: 1.7118 - accuracy: 0.4400\n",
      "Epoch 8/200\n",
      "10/10 [==============================] - 0s 8ms/step - loss: 1.6567 - accuracy: 0.4400\n",
      "Epoch 9/200\n",
      "10/10 [==============================] - 0s 8ms/step - loss: 1.6039 - accuracy: 0.5000\n",
      "Epoch 10/200\n",
      "10/10 [==============================] - 0s 10ms/step - loss: 1.3184 - accuracy: 0.6400\n",
      "Epoch 11/200\n",
      "10/10 [==============================] - 0s 7ms/step - loss: 1.3618 - accuracy: 0.6200\n",
      "Epoch 12/200\n",
      "10/10 [==============================] - 0s 9ms/step - loss: 1.2273 - accuracy: 0.6400\n",
      "Epoch 13/200\n",
      "10/10 [==============================] - 0s 9ms/step - loss: 1.0387 - accuracy: 0.7000\n",
      "Epoch 14/200\n",
      "10/10 [==============================] - 0s 8ms/step - loss: 0.8065 - accuracy: 0.8200\n",
      "Epoch 15/200\n",
      "10/10 [==============================] - 0s 9ms/step - loss: 0.9430 - accuracy: 0.7200\n",
      "Epoch 16/200\n",
      "10/10 [==============================] - 0s 8ms/step - loss: 0.8775 - accuracy: 0.7600\n",
      "Epoch 17/200\n",
      "10/10 [==============================] - 0s 8ms/step - loss: 0.7277 - accuracy: 0.8600\n",
      "Epoch 18/200\n",
      "10/10 [==============================] - 0s 9ms/step - loss: 0.8368 - accuracy: 0.7800\n",
      "Epoch 19/200\n",
      "10/10 [==============================] - 0s 8ms/step - loss: 0.7124 - accuracy: 0.8000\n",
      "Epoch 20/200\n",
      "10/10 [==============================] - 0s 9ms/step - loss: 0.5447 - accuracy: 0.8800\n",
      "Epoch 21/200\n",
      "10/10 [==============================] - 0s 9ms/step - loss: 0.6177 - accuracy: 0.8800\n",
      "Epoch 22/200\n",
      "10/10 [==============================] - 0s 9ms/step - loss: 0.4676 - accuracy: 0.8800\n",
      "Epoch 23/200\n",
      "10/10 [==============================] - 0s 10ms/step - loss: 0.4606 - accuracy: 0.8800\n",
      "Epoch 24/200\n",
      "10/10 [==============================] - 0s 9ms/step - loss: 0.5509 - accuracy: 0.8400\n",
      "Epoch 25/200\n",
      "10/10 [==============================] - 0s 9ms/step - loss: 0.4589 - accuracy: 0.8800\n",
      "Epoch 26/200\n",
      "10/10 [==============================] - 0s 8ms/step - loss: 0.3247 - accuracy: 0.9200\n",
      "Epoch 27/200\n",
      "10/10 [==============================] - 0s 9ms/step - loss: 0.2883 - accuracy: 0.9600\n",
      "Epoch 28/200\n",
      "10/10 [==============================] - 0s 8ms/step - loss: 0.4348 - accuracy: 0.8800\n",
      "Epoch 29/200\n",
      "10/10 [==============================] - 0s 9ms/step - loss: 0.3279 - accuracy: 0.9400\n",
      "Epoch 30/200\n",
      "10/10 [==============================] - 0s 7ms/step - loss: 0.3836 - accuracy: 0.8800\n",
      "Epoch 31/200\n",
      "10/10 [==============================] - 0s 8ms/step - loss: 0.3179 - accuracy: 0.9000\n",
      "Epoch 32/200\n",
      "10/10 [==============================] - 0s 7ms/step - loss: 0.3704 - accuracy: 0.9200\n",
      "Epoch 33/200\n",
      "10/10 [==============================] - 0s 7ms/step - loss: 0.3596 - accuracy: 0.9000\n",
      "Epoch 34/200\n",
      "10/10 [==============================] - 0s 8ms/step - loss: 0.3361 - accuracy: 0.9000\n",
      "Epoch 35/200\n",
      "10/10 [==============================] - 0s 7ms/step - loss: 0.2822 - accuracy: 0.9000\n",
      "Epoch 36/200\n",
      "10/10 [==============================] - 0s 6ms/step - loss: 0.1657 - accuracy: 0.9800\n",
      "Epoch 37/200\n",
      "10/10 [==============================] - 0s 8ms/step - loss: 0.1763 - accuracy: 1.0000\n",
      "Epoch 38/200\n",
      "10/10 [==============================] - 0s 8ms/step - loss: 0.2030 - accuracy: 0.9600\n",
      "Epoch 39/200\n",
      "10/10 [==============================] - 0s 8ms/step - loss: 0.1435 - accuracy: 1.0000\n",
      "Epoch 40/200\n",
      "10/10 [==============================] - 0s 7ms/step - loss: 0.1921 - accuracy: 0.9200\n",
      "Epoch 41/200\n",
      "10/10 [==============================] - 0s 7ms/step - loss: 0.2420 - accuracy: 0.9200\n",
      "Epoch 42/200\n",
      "10/10 [==============================] - 0s 6ms/step - loss: 0.1626 - accuracy: 0.9600\n",
      "Epoch 43/200\n",
      "10/10 [==============================] - 0s 6ms/step - loss: 0.1128 - accuracy: 0.9800\n",
      "Epoch 44/200\n",
      "10/10 [==============================] - 0s 7ms/step - loss: 0.2378 - accuracy: 0.8800\n",
      "Epoch 45/200\n",
      "10/10 [==============================] - 0s 7ms/step - loss: 0.1677 - accuracy: 0.9600\n",
      "Epoch 46/200\n",
      "10/10 [==============================] - 0s 6ms/step - loss: 0.1232 - accuracy: 0.9800\n",
      "Epoch 47/200\n",
      "10/10 [==============================] - 0s 7ms/step - loss: 0.0864 - accuracy: 1.0000\n",
      "Epoch 48/200\n",
      "10/10 [==============================] - 0s 6ms/step - loss: 0.2402 - accuracy: 0.9200\n",
      "Epoch 49/200\n",
      "10/10 [==============================] - 0s 6ms/step - loss: 0.1715 - accuracy: 0.9600\n",
      "Epoch 50/200\n",
      "10/10 [==============================] - 0s 6ms/step - loss: 0.2647 - accuracy: 0.9000\n",
      "Epoch 51/200\n",
      "10/10 [==============================] - 0s 6ms/step - loss: 0.1625 - accuracy: 0.9200\n",
      "Epoch 52/200\n",
      "10/10 [==============================] - 0s 7ms/step - loss: 0.1990 - accuracy: 0.9200\n",
      "Epoch 53/200\n",
      "10/10 [==============================] - 0s 7ms/step - loss: 0.1760 - accuracy: 0.9800\n",
      "Epoch 54/200\n",
      "10/10 [==============================] - 0s 6ms/step - loss: 0.2279 - accuracy: 0.9400\n",
      "Epoch 55/200\n",
      "10/10 [==============================] - 0s 5ms/step - loss: 0.0932 - accuracy: 0.9800\n",
      "Epoch 56/200\n",
      "10/10 [==============================] - 0s 7ms/step - loss: 0.1630 - accuracy: 0.9600\n",
      "Epoch 57/200\n",
      "10/10 [==============================] - 0s 5ms/step - loss: 0.1699 - accuracy: 0.9600\n",
      "Epoch 58/200\n",
      "10/10 [==============================] - 0s 5ms/step - loss: 0.0566 - accuracy: 1.0000\n",
      "Epoch 59/200\n",
      "10/10 [==============================] - 0s 4ms/step - loss: 0.1210 - accuracy: 0.9800\n",
      "Epoch 60/200\n",
      "10/10 [==============================] - 0s 6ms/step - loss: 0.1307 - accuracy: 0.9600\n",
      "Epoch 61/200\n",
      "10/10 [==============================] - 0s 5ms/step - loss: 0.0607 - accuracy: 1.0000\n",
      "Epoch 62/200\n",
      "10/10 [==============================] - 0s 6ms/step - loss: 0.1121 - accuracy: 0.9800\n",
      "Epoch 63/200\n",
      "10/10 [==============================] - 0s 6ms/step - loss: 0.1015 - accuracy: 0.9600\n",
      "Epoch 64/200\n",
      "10/10 [==============================] - 0s 5ms/step - loss: 0.1038 - accuracy: 0.9800\n",
      "Epoch 65/200\n",
      "10/10 [==============================] - 0s 5ms/step - loss: 0.1369 - accuracy: 0.9400\n",
      "Epoch 66/200\n",
      "10/10 [==============================] - 0s 5ms/step - loss: 0.0592 - accuracy: 0.9800\n",
      "Epoch 67/200\n",
      "10/10 [==============================] - 0s 5ms/step - loss: 0.0686 - accuracy: 0.9800\n",
      "Epoch 68/200\n",
      "10/10 [==============================] - 0s 5ms/step - loss: 0.1643 - accuracy: 0.9200\n",
      "Epoch 69/200\n",
      "10/10 [==============================] - 0s 6ms/step - loss: 0.1052 - accuracy: 0.9600\n",
      "Epoch 70/200\n",
      "10/10 [==============================] - 0s 5ms/step - loss: 0.1143 - accuracy: 0.9600\n",
      "Epoch 71/200\n",
      "10/10 [==============================] - 0s 5ms/step - loss: 0.0783 - accuracy: 0.9800\n",
      "Epoch 72/200\n",
      "10/10 [==============================] - 0s 5ms/step - loss: 0.0646 - accuracy: 1.0000\n",
      "Epoch 73/200\n",
      "10/10 [==============================] - 0s 6ms/step - loss: 0.1239 - accuracy: 0.9600\n",
      "Epoch 74/200\n",
      "10/10 [==============================] - 0s 6ms/step - loss: 0.0926 - accuracy: 0.9800\n",
      "Epoch 75/200\n",
      "10/10 [==============================] - 0s 6ms/step - loss: 0.0691 - accuracy: 0.9600\n",
      "Epoch 76/200\n",
      "10/10 [==============================] - 0s 5ms/step - loss: 0.0335 - accuracy: 1.0000\n",
      "Epoch 77/200\n",
      "10/10 [==============================] - 0s 5ms/step - loss: 0.1719 - accuracy: 0.9600\n",
      "Epoch 78/200\n",
      "10/10 [==============================] - 0s 5ms/step - loss: 0.0999 - accuracy: 0.9600\n",
      "Epoch 79/200\n",
      "10/10 [==============================] - 0s 7ms/step - loss: 0.0892 - accuracy: 0.9800\n",
      "Epoch 80/200\n",
      "10/10 [==============================] - 0s 6ms/step - loss: 0.1108 - accuracy: 0.9400\n",
      "Epoch 81/200\n",
      "10/10 [==============================] - 0s 6ms/step - loss: 0.0885 - accuracy: 0.9800\n",
      "Epoch 82/200\n",
      "10/10 [==============================] - 0s 5ms/step - loss: 0.0681 - accuracy: 0.9800\n"
     ]
    },
    {
     "name": "stdout",
     "output_type": "stream",
     "text": [
      "Epoch 83/200\n",
      "10/10 [==============================] - 0s 5ms/step - loss: 0.1576 - accuracy: 0.9200\n",
      "Epoch 84/200\n",
      "10/10 [==============================] - 0s 5ms/step - loss: 0.0696 - accuracy: 0.9800\n",
      "Epoch 85/200\n",
      "10/10 [==============================] - 0s 6ms/step - loss: 0.0736 - accuracy: 0.9800\n",
      "Epoch 86/200\n",
      "10/10 [==============================] - 0s 6ms/step - loss: 0.0888 - accuracy: 0.9800\n",
      "Epoch 87/200\n",
      "10/10 [==============================] - 0s 6ms/step - loss: 0.0804 - accuracy: 0.9800\n",
      "Epoch 88/200\n",
      "10/10 [==============================] - 0s 6ms/step - loss: 0.0278 - accuracy: 1.0000\n",
      "Epoch 89/200\n",
      "10/10 [==============================] - 0s 5ms/step - loss: 0.0701 - accuracy: 0.9800\n",
      "Epoch 90/200\n",
      "10/10 [==============================] - 0s 6ms/step - loss: 0.0481 - accuracy: 0.9800\n",
      "Epoch 91/200\n",
      "10/10 [==============================] - 0s 6ms/step - loss: 0.0947 - accuracy: 0.9800\n",
      "Epoch 92/200\n",
      "10/10 [==============================] - 0s 7ms/step - loss: 0.0964 - accuracy: 0.9800\n",
      "Epoch 93/200\n",
      "10/10 [==============================] - 0s 7ms/step - loss: 0.0689 - accuracy: 0.9800\n",
      "Epoch 94/200\n",
      "10/10 [==============================] - 0s 6ms/step - loss: 0.0566 - accuracy: 0.9800\n",
      "Epoch 95/200\n",
      "10/10 [==============================] - 0s 7ms/step - loss: 0.0816 - accuracy: 0.9800\n",
      "Epoch 96/200\n",
      "10/10 [==============================] - 0s 7ms/step - loss: 0.0471 - accuracy: 0.9800\n",
      "Epoch 97/200\n",
      "10/10 [==============================] - 0s 6ms/step - loss: 0.0148 - accuracy: 1.0000\n",
      "Epoch 98/200\n",
      "10/10 [==============================] - 0s 7ms/step - loss: 0.0526 - accuracy: 0.9800\n",
      "Epoch 99/200\n",
      "10/10 [==============================] - 0s 5ms/step - loss: 0.0225 - accuracy: 1.0000\n",
      "Epoch 100/200\n",
      "10/10 [==============================] - 0s 6ms/step - loss: 0.0697 - accuracy: 0.9800\n",
      "Epoch 101/200\n",
      "10/10 [==============================] - 0s 5ms/step - loss: 0.0544 - accuracy: 1.0000\n",
      "Epoch 102/200\n",
      "10/10 [==============================] - 0s 5ms/step - loss: 0.0684 - accuracy: 1.0000\n",
      "Epoch 103/200\n",
      "10/10 [==============================] - 0s 6ms/step - loss: 0.0693 - accuracy: 0.9800\n",
      "Epoch 104/200\n",
      "10/10 [==============================] - 0s 7ms/step - loss: 0.0657 - accuracy: 1.0000\n",
      "Epoch 105/200\n",
      "10/10 [==============================] - 0s 6ms/step - loss: 0.0416 - accuracy: 1.0000\n",
      "Epoch 106/200\n",
      "10/10 [==============================] - 0s 6ms/step - loss: 0.0495 - accuracy: 0.9800\n",
      "Epoch 107/200\n",
      "10/10 [==============================] - 0s 6ms/step - loss: 0.0590 - accuracy: 0.9800\n",
      "Epoch 108/200\n",
      "10/10 [==============================] - 0s 6ms/step - loss: 0.0439 - accuracy: 1.0000\n",
      "Epoch 109/200\n",
      "10/10 [==============================] - 0s 6ms/step - loss: 0.0595 - accuracy: 1.0000\n",
      "Epoch 110/200\n",
      "10/10 [==============================] - 0s 5ms/step - loss: 0.1193 - accuracy: 0.9600\n",
      "Epoch 111/200\n",
      "10/10 [==============================] - 0s 5ms/step - loss: 0.0263 - accuracy: 1.0000\n",
      "Epoch 112/200\n",
      "10/10 [==============================] - 0s 6ms/step - loss: 0.0232 - accuracy: 1.0000\n",
      "Epoch 113/200\n",
      "10/10 [==============================] - 0s 5ms/step - loss: 0.0087 - accuracy: 1.0000\n",
      "Epoch 114/200\n",
      "10/10 [==============================] - 0s 6ms/step - loss: 0.0640 - accuracy: 0.9800\n",
      "Epoch 115/200\n",
      "10/10 [==============================] - 0s 7ms/step - loss: 0.0363 - accuracy: 1.0000\n",
      "Epoch 116/200\n",
      "10/10 [==============================] - 0s 6ms/step - loss: 0.0930 - accuracy: 0.9800\n",
      "Epoch 117/200\n",
      "10/10 [==============================] - 0s 7ms/step - loss: 0.0458 - accuracy: 0.9800\n",
      "Epoch 118/200\n",
      "10/10 [==============================] - 0s 7ms/step - loss: 0.0455 - accuracy: 1.0000\n",
      "Epoch 119/200\n",
      "10/10 [==============================] - 0s 5ms/step - loss: 0.0631 - accuracy: 0.9800\n",
      "Epoch 120/200\n",
      "10/10 [==============================] - 0s 6ms/step - loss: 0.0123 - accuracy: 1.0000\n",
      "Epoch 121/200\n",
      "10/10 [==============================] - 0s 6ms/step - loss: 0.0569 - accuracy: 0.9800\n",
      "Epoch 122/200\n",
      "10/10 [==============================] - 0s 6ms/step - loss: 0.0431 - accuracy: 1.0000\n",
      "Epoch 123/200\n",
      "10/10 [==============================] - 0s 6ms/step - loss: 0.0540 - accuracy: 0.9800\n",
      "Epoch 124/200\n",
      "10/10 [==============================] - 0s 5ms/step - loss: 0.0150 - accuracy: 1.0000\n",
      "Epoch 125/200\n",
      "10/10 [==============================] - 0s 5ms/step - loss: 0.0589 - accuracy: 0.9800\n",
      "Epoch 126/200\n",
      "10/10 [==============================] - 0s 6ms/step - loss: 0.0240 - accuracy: 1.0000\n",
      "Epoch 127/200\n",
      "10/10 [==============================] - 0s 6ms/step - loss: 0.0601 - accuracy: 0.9800\n",
      "Epoch 128/200\n",
      "10/10 [==============================] - 0s 7ms/step - loss: 0.0487 - accuracy: 1.0000\n",
      "Epoch 129/200\n",
      "10/10 [==============================] - 0s 6ms/step - loss: 0.0145 - accuracy: 1.0000\n",
      "Epoch 130/200\n",
      "10/10 [==============================] - 0s 6ms/step - loss: 0.0300 - accuracy: 0.9800\n",
      "Epoch 131/200\n",
      "10/10 [==============================] - 0s 6ms/step - loss: 0.0349 - accuracy: 0.9800\n",
      "Epoch 132/200\n",
      "10/10 [==============================] - 0s 5ms/step - loss: 0.0276 - accuracy: 1.0000\n",
      "Epoch 133/200\n",
      "10/10 [==============================] - 0s 6ms/step - loss: 0.0341 - accuracy: 1.0000\n",
      "Epoch 134/200\n",
      "10/10 [==============================] - 0s 6ms/step - loss: 0.0500 - accuracy: 0.9800\n",
      "Epoch 135/200\n",
      "10/10 [==============================] - 0s 6ms/step - loss: 0.0133 - accuracy: 1.0000\n",
      "Epoch 136/200\n",
      "10/10 [==============================] - 0s 7ms/step - loss: 0.0620 - accuracy: 0.9800\n",
      "Epoch 137/200\n",
      "10/10 [==============================] - 0s 9ms/step - loss: 0.1386 - accuracy: 0.9600\n",
      "Epoch 138/200\n",
      "10/10 [==============================] - 0s 6ms/step - loss: 0.0197 - accuracy: 1.0000\n",
      "Epoch 139/200\n",
      "10/10 [==============================] - 0s 7ms/step - loss: 0.0851 - accuracy: 0.9600\n",
      "Epoch 140/200\n",
      "10/10 [==============================] - 0s 5ms/step - loss: 0.0506 - accuracy: 1.0000\n",
      "Epoch 141/200\n",
      "10/10 [==============================] - 0s 5ms/step - loss: 0.0340 - accuracy: 0.9800\n",
      "Epoch 142/200\n",
      "10/10 [==============================] - 0s 6ms/step - loss: 0.0450 - accuracy: 1.0000\n",
      "Epoch 143/200\n",
      "10/10 [==============================] - 0s 6ms/step - loss: 0.0238 - accuracy: 1.0000\n",
      "Epoch 144/200\n",
      "10/10 [==============================] - 0s 6ms/step - loss: 0.0168 - accuracy: 1.0000\n",
      "Epoch 145/200\n",
      "10/10 [==============================] - 0s 7ms/step - loss: 0.0832 - accuracy: 0.9600\n",
      "Epoch 146/200\n",
      "10/10 [==============================] - 0s 6ms/step - loss: 0.0161 - accuracy: 1.0000\n",
      "Epoch 147/200\n",
      "10/10 [==============================] - 0s 7ms/step - loss: 0.0391 - accuracy: 1.0000\n",
      "Epoch 148/200\n",
      "10/10 [==============================] - 0s 6ms/step - loss: 0.0207 - accuracy: 1.0000\n",
      "Epoch 149/200\n",
      "10/10 [==============================] - 0s 7ms/step - loss: 0.0231 - accuracy: 1.0000\n",
      "Epoch 150/200\n",
      "10/10 [==============================] - 0s 7ms/step - loss: 0.0333 - accuracy: 1.0000\n",
      "Epoch 151/200\n",
      "10/10 [==============================] - 0s 8ms/step - loss: 0.0164 - accuracy: 1.0000\n",
      "Epoch 152/200\n",
      "10/10 [==============================] - 0s 7ms/step - loss: 0.0343 - accuracy: 0.9800\n",
      "Epoch 153/200\n",
      "10/10 [==============================] - 0s 5ms/step - loss: 0.0612 - accuracy: 0.9800\n",
      "Epoch 154/200\n",
      "10/10 [==============================] - 0s 5ms/step - loss: 0.0136 - accuracy: 1.0000\n",
      "Epoch 155/200\n",
      "10/10 [==============================] - 0s 6ms/step - loss: 0.0286 - accuracy: 1.0000\n",
      "Epoch 156/200\n",
      "10/10 [==============================] - 0s 5ms/step - loss: 0.0931 - accuracy: 0.9600\n",
      "Epoch 157/200\n",
      "10/10 [==============================] - 0s 5ms/step - loss: 0.0391 - accuracy: 1.0000\n",
      "Epoch 158/200\n",
      "10/10 [==============================] - 0s 5ms/step - loss: 0.0115 - accuracy: 1.0000\n",
      "Epoch 159/200\n",
      "10/10 [==============================] - 0s 6ms/step - loss: 0.0166 - accuracy: 1.0000\n",
      "Epoch 160/200\n",
      "10/10 [==============================] - 0s 6ms/step - loss: 0.0062 - accuracy: 1.0000\n",
      "Epoch 161/200\n",
      "10/10 [==============================] - 0s 5ms/step - loss: 0.0182 - accuracy: 1.0000\n",
      "Epoch 162/200\n",
      "10/10 [==============================] - 0s 5ms/step - loss: 0.0248 - accuracy: 1.0000\n",
      "Epoch 163/200\n",
      "10/10 [==============================] - 0s 6ms/step - loss: 0.0309 - accuracy: 0.9800\n",
      "Epoch 164/200\n"
     ]
    },
    {
     "name": "stdout",
     "output_type": "stream",
     "text": [
      "10/10 [==============================] - 0s 7ms/step - loss: 0.0144 - accuracy: 1.0000\n",
      "Epoch 165/200\n",
      "10/10 [==============================] - 0s 6ms/step - loss: 0.0367 - accuracy: 1.0000\n",
      "Epoch 166/200\n",
      "10/10 [==============================] - 0s 6ms/step - loss: 0.0027 - accuracy: 1.0000\n",
      "Epoch 167/200\n",
      "10/10 [==============================] - 0s 6ms/step - loss: 0.0797 - accuracy: 0.9600\n",
      "Epoch 168/200\n",
      "10/10 [==============================] - 0s 7ms/step - loss: 0.0237 - accuracy: 1.0000\n",
      "Epoch 169/200\n",
      "10/10 [==============================] - 0s 6ms/step - loss: 0.0549 - accuracy: 0.9800\n",
      "Epoch 170/200\n",
      "10/10 [==============================] - 0s 5ms/step - loss: 0.0179 - accuracy: 1.0000\n",
      "Epoch 171/200\n",
      "10/10 [==============================] - 0s 5ms/step - loss: 0.0185 - accuracy: 1.0000\n",
      "Epoch 172/200\n",
      "10/10 [==============================] - 0s 6ms/step - loss: 0.0214 - accuracy: 1.0000\n",
      "Epoch 173/200\n",
      "10/10 [==============================] - 0s 6ms/step - loss: 0.0691 - accuracy: 0.9800\n",
      "Epoch 174/200\n",
      "10/10 [==============================] - 0s 6ms/step - loss: 0.0328 - accuracy: 0.9800\n",
      "Epoch 175/200\n",
      "10/10 [==============================] - 0s 6ms/step - loss: 0.0216 - accuracy: 1.0000\n",
      "Epoch 176/200\n",
      "10/10 [==============================] - 0s 7ms/step - loss: 0.0476 - accuracy: 1.0000\n",
      "Epoch 177/200\n",
      "10/10 [==============================] - 0s 7ms/step - loss: 0.0397 - accuracy: 0.9800\n",
      "Epoch 178/200\n",
      "10/10 [==============================] - 0s 7ms/step - loss: 0.0208 - accuracy: 1.0000\n",
      "Epoch 179/200\n",
      "10/10 [==============================] - 0s 8ms/step - loss: 0.0321 - accuracy: 1.0000\n",
      "Epoch 180/200\n",
      "10/10 [==============================] - 0s 6ms/step - loss: 0.0315 - accuracy: 0.9800\n",
      "Epoch 181/200\n",
      "10/10 [==============================] - 0s 6ms/step - loss: 0.0141 - accuracy: 1.0000\n",
      "Epoch 182/200\n",
      "10/10 [==============================] - 0s 5ms/step - loss: 0.0047 - accuracy: 1.0000\n",
      "Epoch 183/200\n",
      "10/10 [==============================] - 0s 8ms/step - loss: 0.0173 - accuracy: 1.0000\n",
      "Epoch 184/200\n",
      "10/10 [==============================] - 0s 7ms/step - loss: 0.0275 - accuracy: 1.0000\n",
      "Epoch 185/200\n",
      "10/10 [==============================] - 0s 7ms/step - loss: 0.0351 - accuracy: 1.0000\n",
      "Epoch 186/200\n",
      "10/10 [==============================] - 0s 6ms/step - loss: 0.0176 - accuracy: 1.0000\n",
      "Epoch 187/200\n",
      "10/10 [==============================] - 0s 6ms/step - loss: 0.0039 - accuracy: 1.0000\n",
      "Epoch 188/200\n",
      "10/10 [==============================] - 0s 9ms/step - loss: 0.0490 - accuracy: 0.9800\n",
      "Epoch 189/200\n",
      "10/10 [==============================] - 0s 7ms/step - loss: 0.0079 - accuracy: 1.0000\n",
      "Epoch 190/200\n",
      "10/10 [==============================] - 0s 6ms/step - loss: 0.0350 - accuracy: 1.0000\n",
      "Epoch 191/200\n",
      "10/10 [==============================] - 0s 5ms/step - loss: 0.0133 - accuracy: 1.0000\n",
      "Epoch 192/200\n",
      "10/10 [==============================] - 0s 5ms/step - loss: 0.0236 - accuracy: 1.0000\n",
      "Epoch 193/200\n",
      "10/10 [==============================] - 0s 6ms/step - loss: 0.0178 - accuracy: 1.0000\n",
      "Epoch 194/200\n",
      "10/10 [==============================] - 0s 6ms/step - loss: 0.0541 - accuracy: 0.9800\n",
      "Epoch 195/200\n",
      "10/10 [==============================] - 0s 5ms/step - loss: 0.0046 - accuracy: 1.0000\n",
      "Epoch 196/200\n",
      "10/10 [==============================] - 0s 6ms/step - loss: 0.0049 - accuracy: 1.0000\n",
      "Epoch 197/200\n",
      "10/10 [==============================] - 0s 7ms/step - loss: 0.0054 - accuracy: 1.0000\n",
      "Epoch 198/200\n",
      "10/10 [==============================] - 0s 6ms/step - loss: 0.0133 - accuracy: 1.0000\n",
      "Epoch 199/200\n",
      "10/10 [==============================] - 0s 7ms/step - loss: 0.0179 - accuracy: 1.0000\n",
      "Epoch 200/200\n",
      "10/10 [==============================] - 0s 7ms/step - loss: 0.0418 - accuracy: 0.9800\n"
     ]
    }
   ],
   "source": [
    "#fitting and saving the model \n",
    "\n",
    "hist = model.fit(np.array(train_x), np.array(train_y), epochs=200, batch_size=5, verbose=1)\n",
    "model.save('chatbot_model.h5', hist)"
   ]
  },
  {
   "cell_type": "markdown",
   "id": "d678070c",
   "metadata": {},
   "source": [
    "### Making Model ready to Chat"
   ]
  },
  {
   "cell_type": "code",
   "execution_count": 21,
   "id": "2541f5c5",
   "metadata": {},
   "outputs": [],
   "source": [
    "from keras.models import load_model"
   ]
  },
  {
   "cell_type": "code",
   "execution_count": 22,
   "id": "425cca32",
   "metadata": {},
   "outputs": [],
   "source": [
    "model = load_model('chatbot_model.h5')\n",
    "intents = json.loads(open('intents.json', encoding=\"utf-8\").read())\n",
    "words = pickle.load(open('words.pkl','rb'))\n",
    "classes = pickle.load(open('classes.pkl','rb'))"
   ]
  },
  {
   "cell_type": "markdown",
   "id": "94e09915",
   "metadata": {},
   "source": [
    "#### Creating Functions"
   ]
  },
  {
   "cell_type": "code",
   "execution_count": 23,
   "id": "6eaaa203",
   "metadata": {},
   "outputs": [],
   "source": [
    "def clean_up_sentence(sentence):\n",
    "    # tokenize the pattern - split words into array\n",
    "    sentence_words = nltk.word_tokenize(sentence)\n",
    "    \n",
    "    # stem each word - create short form for word\n",
    "    sentence_words = [lemmatizer.lemmatize(word.lower()) for word in sentence_words]\n",
    "    \n",
    "    return sentence_words"
   ]
  },
  {
   "cell_type": "code",
   "execution_count": 24,
   "id": "2d0cb492",
   "metadata": {},
   "outputs": [],
   "source": [
    "# return bag of words array: 0 or 1 for each word in the bag that exists in the sentence\n",
    "def bow(sentence, words, show_details=True):\n",
    "    # tokenize the pattern\n",
    "    sentence_words = clean_up_sentence(sentence)\n",
    "    \n",
    "    # bag of words - matrix of N words, vocabulary matrix\n",
    "    bag = [0]*len(words)  \n",
    "    for s in sentence_words:\n",
    "        for i,w in enumerate(words):\n",
    "            if w == s: \n",
    "                # assign 1 if current word is in the vocabulary position\n",
    "                bag[i] = 1\n",
    "                if show_details:\n",
    "                    print (\"found in bag: %s\" % w)\n",
    "    return(np.array(bag))"
   ]
  },
  {
   "cell_type": "code",
   "execution_count": 25,
   "id": "036f3010",
   "metadata": {},
   "outputs": [],
   "source": [
    "def predict_class(sentence, model):\n",
    "    # filter out predictions below a threshold\n",
    "    p = bow(sentence, words,show_details=False)\n",
    "    res = model.predict(np.array([p]))[0]\n",
    "    ERROR_THRESHOLD = 0.25\n",
    "    results = [[i,r] for i,r in enumerate(res) if r>ERROR_THRESHOLD]\n",
    "    \n",
    "    # sort by strength of probability\n",
    "    results.sort(key=lambda x: x[1], reverse=True)\n",
    "    return_list = []\n",
    "    for r in results:\n",
    "        return_list.append({\"intent\": classes[r[0]], \"probability\": str(r[1])})\n",
    "    return return_list"
   ]
  },
  {
   "cell_type": "code",
   "execution_count": 26,
   "id": "97afa929",
   "metadata": {},
   "outputs": [],
   "source": [
    "def getResponse(ints, intents_json):\n",
    "    tag = ints[0]['intent']\n",
    "    list_of_intents = intents_json['intents']\n",
    "    for i in list_of_intents:\n",
    "        if(i['tag']== tag):\n",
    "            result = random.choice(i['responses'])\n",
    "            break\n",
    "    return result"
   ]
  },
  {
   "cell_type": "code",
   "execution_count": 27,
   "id": "4705615d",
   "metadata": {},
   "outputs": [],
   "source": [
    "def chatbot_response(msg):\n",
    "    ints = predict_class(msg, model)\n",
    "    res = getResponse(ints, intents)\n",
    "    return res"
   ]
  },
  {
   "cell_type": "code",
   "execution_count": 28,
   "id": "e54c5455",
   "metadata": {},
   "outputs": [],
   "source": [
    "def send():\n",
    "    msg = EntryBox.get(\"1.0\",'end-1c').strip()\n",
    "    EntryBox.delete(\"0.0\",END)\n",
    "\n",
    "    if msg != '':\n",
    "        ChatLog.config(state=NORMAL)\n",
    "        ChatLog.insert(END, \"You: \" + msg + '\\n\\n')\n",
    "        ChatLog.config(foreground=\"#442265\", font=(\"Verdana\", 12 ))\n",
    "    \n",
    "        res = chatbot_response(msg)\n",
    "        ChatLog.insert(END, \"Bot: \" + res + '\\n\\n')\n",
    "            \n",
    "        ChatLog.config(state=DISABLED)\n",
    "        ChatLog.yview(END)"
   ]
  },
  {
   "cell_type": "code",
   "execution_count": 34,
   "id": "b1648b61",
   "metadata": {},
   "outputs": [],
   "source": [
    "def start_chat():\n",
    "    name = input(\"Enter Your Name: \")\n",
    "    print(\"Welcome \" + name + \" to the Code Clause Bot Service! Let me know how can I help you?\\n\")\n",
    "    while True:\n",
    "        inp = str(input()).lower()\n",
    "        if inp.lower()==\"end\" or \"bye\" in inp.lower():\n",
    "            print(\"Code Clause : Bye! Come back again soon and have a nice day.\")\n",
    "            break\n",
    "        if inp.lower()== '' or inp.lower()== '*':\n",
    "            print('Please re-phrase your query!')\n",
    "            print(\"-\"*50)\n",
    "        else:\n",
    "            print(f\"Code Clause : {chatbot_response(inp)}\"+'\\n')\n",
    "            print(\"-\"*50)"
   ]
  },
  {
   "cell_type": "code",
   "execution_count": 33,
   "id": "962c57f7",
   "metadata": {},
   "outputs": [
    {
     "name": "stdout",
     "output_type": "stream",
     "text": [
      "Enter Your Name: Aditya Punia\n",
      "Welcome Aditya Punia to the Code Clause Bot Service! Let me know how can I help you?\n",
      "\n",
      "What all can you do\n",
      "1/1 [==============================] - 0s 325ms/step\n",
      "Code Clause: I can give you info about the services and internships provided by codeclause.com\n",
      "\n",
      "--------------------------------------------------\n",
      "tell me about codeclause\n",
      "1/1 [==============================] - 0s 49ms/step\n",
      "Code Clause: CodeClause aspires to be the global sourcing choice of the world market and revolutionizes the way service processes function. \n",
      "To reach out to the common people across the globe and make Information Technology a tool for the “MASS” along with the tool for the “CLASS”. \n",
      "Creating innovative IT solutions and providing IT-enabled services to delight customers worldwide and build Relationships based on Trust, Values and Professionalism. CodeClause has industry-specific software expertise in Technology, Financial, Healthcare, Media, Manufacturing, and many other sectors. \n",
      "The company specializes in offering Data & Analytics, Automation AI, IoT Services, Web Designing, Web Application Development, Mobile Application Development, Software Development, Digital Marketing, Software Testing, Quality Assurance services, and many more. \n",
      "We offer reliable, efficient delivery with high-caliber engineers & finely-tuned software development processes.We Believe In Leadership to lead the technology to build a better future Integrity to follow truth and be real Accountability for our every commitment. \n",
      "We Imagine, We Engineer, We Modernize, We Manage\n",
      "\n",
      "--------------------------------------------------\n",
      "great how can i apply for internship at codeclause\n",
      "1/1 [==============================] - 0s 53ms/step\n",
      "Code Clause: You can check our page on LinkedIn where you can find a post about how to apply to the internship \n",
      "OR Check this link : https://codeclause.com/careers.html to apply for the internship\n",
      "\n",
      "--------------------------------------------------\n",
      "Great you are a good bot made by a brilliant engineer... Take care bye\n",
      "Bye! Come back again soon and have a nice day.\n"
     ]
    }
   ],
   "source": [
    "# start the chat bot\n",
    "start_chat()"
   ]
  },
  {
   "cell_type": "code",
   "execution_count": null,
   "id": "84b8ed7c",
   "metadata": {},
   "outputs": [],
   "source": []
  }
 ],
 "metadata": {
  "kernelspec": {
   "display_name": "Python 3 (ipykernel)",
   "language": "python",
   "name": "python3"
  },
  "language_info": {
   "codemirror_mode": {
    "name": "ipython",
    "version": 3
   },
   "file_extension": ".py",
   "mimetype": "text/x-python",
   "name": "python",
   "nbconvert_exporter": "python",
   "pygments_lexer": "ipython3",
   "version": "3.10.4"
  }
 },
 "nbformat": 4,
 "nbformat_minor": 5
}
